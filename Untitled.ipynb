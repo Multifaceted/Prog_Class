{
 "cells": [
  {
   "cell_type": "markdown",
   "metadata": {},
   "source": [
    "{\n",
    "\\def\\sym#1{\\ifmmode^{#1}\\else\\(^{#1}\\)\\fi}\n",
    "\\begin{tabular}{l*{4}{c}}\n",
    "\\hline\\hline\n",
    "          &\\multicolumn{4}{c}{(1)}                                                    \\\\\n",
    "          &\\multicolumn{4}{c}{}                                                       \\\\\n",
    "          &Large enterprise         &Medium-sized enterprise         &Small enterprise         &    Total         \\\\\n",
    "\\hline\n",
    "EA        &      230         &      425         &     8459         &     9114         \\\\\n",
    "EA\\_VOID   &      154         &      862         &     5859         &     6875         \\\\\n",
    "SBA       &      249         &      479         &    16511         &    17239         \\\\\n",
    "Total     &      633         &     1766         &    30829         &    33228         \\\\\n",
    "\\hline\\hline\n",
    "\\multicolumn{5}{l}{\\footnotesize \\sym{*} \\(p<0.05\\), \\sym{**} \\(p<0.01\\), \\sym{***} \\(p<0.001\\)}\\\\\n",
    "\\end{tabular}\n",
    "}"
   ]
  },
  {
   "cell_type": "code",
   "execution_count": null,
   "metadata": {},
   "outputs": [],
   "source": []
  }
 ],
 "metadata": {
  "kernelspec": {
   "display_name": "Python 3",
   "language": "python",
   "name": "python3"
  },
  "language_info": {
   "codemirror_mode": {
    "name": "ipython",
    "version": 3
   },
   "file_extension": ".py",
   "mimetype": "text/x-python",
   "name": "python",
   "nbconvert_exporter": "python",
   "pygments_lexer": "ipython3",
   "version": "3.6.5"
  }
 },
 "nbformat": 4,
 "nbformat_minor": 2
}
