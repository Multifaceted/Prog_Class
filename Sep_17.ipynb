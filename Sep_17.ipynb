{
 "cells": [
  {
   "cell_type": "markdown",
   "metadata": {},
   "source": [
    "Bubble_Sort\n",
    "\n",
    "8 2 4 9 3 6  \n",
    "2 8 4 9 3 6  \n",
    "2 4 8 9 3 6  \n",
    "2 3 4 8 9 6  \n",
    "2 3 4 6 8 9\n",
    "\n",
    "The elements before the bubble are always sorted!"
   ]
  },
  {
   "cell_type": "code",
   "execution_count": 13,
   "metadata": {},
   "outputs": [
    {
     "data": {
      "text/plain": [
       "[1, 2, 3, 6, 7, 8]"
      ]
     },
     "execution_count": 13,
     "metadata": {},
     "output_type": "execute_result"
    }
   ],
   "source": [
    "A = [3, 2, 1, 6, 7, 8]\n",
    "n = len(A)\n",
    "for j in range(1, n):\n",
    "    key = A[j]\n",
    "    i = j - 1\n",
    "    while i >= 0 and A[i] > key:\n",
    "        A[i + 1] = A[i]\n",
    "        i = i - 1\n",
    "    A[i + 1] = key\n",
    "A"
   ]
  },
  {
   "cell_type": "code",
   "execution_count": 14,
   "metadata": {},
   "outputs": [
    {
     "data": {
      "text/plain": [
       "[2, 3, 4]"
      ]
     },
     "execution_count": 14,
     "metadata": {},
     "output_type": "execute_result"
    }
   ],
   "source": [
    "list(range(2, 5))"
   ]
  },
  {
   "cell_type": "markdown",
   "metadata": {},
   "source": [
    "Merge_Sort"
   ]
  },
  {
   "cell_type": "code",
   "execution_count": 43,
   "metadata": {},
   "outputs": [],
   "source": [
    "def Merge(left1, right1):\n",
    "    left = left1[:]\n",
    "    right = right1[:]\n",
    "    res = []\n",
    "    while len(left) > 0 and len(right) > 0:\n",
    "        if left[0] <= right[0]:\n",
    "            res.append(left.pop(0))\n",
    "        else:\n",
    "            res.append(right.pop(0))\n",
    "    if len(left) == 0:\n",
    "        res = res + right\n",
    "    else:\n",
    "        res = res + left\n",
    "    return res"
   ]
  },
  {
   "cell_type": "code",
   "execution_count": 44,
   "metadata": {},
   "outputs": [],
   "source": [
    "def Merge_Sort(A):\n",
    "    n = len(A)\n",
    "    if n == 1:\n",
    "        return A\n",
    "    else:\n",
    "        div = n // 2\n",
    "        left = Merge_Sort(A[: div])\n",
    "        right = Merge_Sort(A[div :])\n",
    "        return Merge(left, right)"
   ]
  },
  {
   "cell_type": "code",
   "execution_count": 46,
   "metadata": {},
   "outputs": [
    {
     "data": {
      "text/plain": [
       "[2, 3, 4, 5]"
      ]
     },
     "execution_count": 46,
     "metadata": {},
     "output_type": "execute_result"
    }
   ],
   "source": [
    "def merge_sort(l, start = 0, end = len(l)):\n",
    "    if len(l) > 1:\n",
    "        j = (end - start) // 2\n",
    "        merge_sort(l, start, j)\n",
    "        merge_sort(l, j, end)\n",
    "        merge(l, start, end)\n",
    "def merge(l, start, end):\n",
    "    A = []\n",
    "    j = (end - start) // 2\n",
    "    ia = start\n",
    "    ib = j\n",
    "    while ia < j and ib < end:\n",
    "        if ib < end and ia < j\n",
    "            if l[ia] < [ib]:\n",
    "                A.append(l[ia])\n",
    "                ia += 1\n",
    "            else:\n",
    "                A.append(l[ib])\n",
    "                ib += 1\n",
    "        elif ib < end:\n",
    "            A.append(l[ib])\n",
    "            ib += 1\n",
    "        else:\n",
    "            A.append(l[ia])\n",
    "            ia += 1\n",
    "        for i in range(len(A)):\n",
    "            l[start+i] = A[i]"
   ]
  },
  {
   "cell_type": "code",
   "execution_count": 41,
   "metadata": {},
   "outputs": [
    {
     "data": {
      "text/plain": [
       "[1, 2, 6, 7, 9, 11]"
      ]
     },
     "execution_count": 41,
     "metadata": {},
     "output_type": "execute_result"
    }
   ],
   "source": [
    "A = Merge([1, 6, 9], [2, 7, 11])\n",
    "A"
   ]
  },
  {
   "cell_type": "code",
   "execution_count": null,
   "metadata": {},
   "outputs": [],
   "source": []
  },
  {
   "cell_type": "code",
   "execution_count": 27,
   "metadata": {},
   "outputs": [
    {
     "data": {
      "text/plain": [
       "0"
      ]
     },
     "execution_count": 27,
     "metadata": {},
     "output_type": "execute_result"
    }
   ],
   "source": [
    "len([])"
   ]
  },
  {
   "cell_type": "code",
   "execution_count": 29,
   "metadata": {},
   "outputs": [
    {
     "data": {
      "text/plain": [
       "[2, 1, 6, 7, 8]"
      ]
     },
     "execution_count": 29,
     "metadata": {},
     "output_type": "execute_result"
    }
   ],
   "source": [
    "A"
   ]
  },
  {
   "cell_type": "code",
   "execution_count": 30,
   "metadata": {},
   "outputs": [
    {
     "data": {
      "text/plain": [
       "[1, 2, 3, 4, 5]"
      ]
     },
     "execution_count": 30,
     "metadata": {},
     "output_type": "execute_result"
    }
   ],
   "source": [
    "[1,2,3]+[4, 5]"
   ]
  },
  {
   "cell_type": "code",
   "execution_count": 49,
   "metadata": {},
   "outputs": [],
   "source": [
    "a = [2, 5, 7, 9, 11]\n",
    "l = len(a)"
   ]
  },
  {
   "cell_type": "code",
   "execution_count": 50,
   "metadata": {},
   "outputs": [
    {
     "data": {
      "text/plain": [
       "2"
      ]
     },
     "execution_count": 50,
     "metadata": {},
     "output_type": "execute_result"
    }
   ],
   "source": [
    "div = l // 2\n",
    "div"
   ]
  },
  {
   "cell_type": "code",
   "execution_count": 51,
   "metadata": {},
   "outputs": [],
   "source": [
    "left = a[:div]\n",
    "right =a[div: ]"
   ]
  },
  {
   "cell_type": "code",
   "execution_count": 52,
   "metadata": {},
   "outputs": [
    {
     "data": {
      "text/plain": [
       "[2, 5]"
      ]
     },
     "execution_count": 52,
     "metadata": {},
     "output_type": "execute_result"
    }
   ],
   "source": [
    "left"
   ]
  },
  {
   "cell_type": "code",
   "execution_count": 53,
   "metadata": {},
   "outputs": [
    {
     "data": {
      "text/plain": [
       "[7, 9, 11]"
      ]
     },
     "execution_count": 53,
     "metadata": {},
     "output_type": "execute_result"
    }
   ],
   "source": [
    "right"
   ]
  },
  {
   "cell_type": "code",
   "execution_count": null,
   "metadata": {},
   "outputs": [],
   "source": []
  }
 ],
 "metadata": {
  "kernelspec": {
   "display_name": "Python 3",
   "language": "python",
   "name": "python3"
  },
  "language_info": {
   "codemirror_mode": {
    "name": "ipython",
    "version": 3
   },
   "file_extension": ".py",
   "mimetype": "text/x-python",
   "name": "python",
   "nbconvert_exporter": "python",
   "pygments_lexer": "ipython3",
   "version": "3.6.5"
  }
 },
 "nbformat": 4,
 "nbformat_minor": 2
}
