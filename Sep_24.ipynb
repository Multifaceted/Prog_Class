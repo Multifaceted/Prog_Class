{
 "cells": [
  {
   "cell_type": "markdown",
   "metadata": {},
   "source": [
    "# Import statement"
   ]
  },
  {
   "cell_type": "markdown",
   "metadata": {},
   "source": [
    "Suppose you have a python source file `mymodule.py`"
   ]
  },
  {
   "cell_type": "code",
   "execution_count": 3,
   "metadata": {},
   "outputs": [],
   "source": [
    "import mymodule"
   ]
  },
  {
   "cell_type": "code",
   "execution_count": 4,
   "metadata": {},
   "outputs": [
    {
     "ename": "NameError",
     "evalue": "name 'concatenate' is not defined",
     "output_type": "error",
     "traceback": [
      "\u001b[0;31m---------------------------------------------------------------------------\u001b[0m",
      "\u001b[0;31mNameError\u001b[0m                                 Traceback (most recent call last)",
      "\u001b[0;32m<ipython-input-4-b871d4d8173e>\u001b[0m in \u001b[0;36m<module>\u001b[0;34m()\u001b[0m\n\u001b[0;32m----> 1\u001b[0;31m \u001b[0mconcatenate\u001b[0m\u001b[0;34m(\u001b[0m\u001b[0;34m\"Hello\"\u001b[0m\u001b[0;34m,\u001b[0m \u001b[0;34m\"World\"\u001b[0m\u001b[0;34m)\u001b[0m\u001b[0;34m\u001b[0m\u001b[0m\n\u001b[0m",
      "\u001b[0;31mNameError\u001b[0m: name 'concatenate' is not defined"
     ]
    }
   ],
   "source": [
    "concatenate(\"Hello\", \"World\")"
   ]
  },
  {
   "cell_type": "code",
   "execution_count": 3,
   "metadata": {},
   "outputs": [
    {
     "data": {
      "text/plain": [
       "'HelloWorld'"
      ]
     },
     "execution_count": 3,
     "metadata": {},
     "output_type": "execute_result"
    }
   ],
   "source": [
    "mymodule.concatenate(\"Hello\", \"World\")"
   ]
  },
  {
   "cell_type": "markdown",
   "metadata": {},
   "source": [
    "Try to modify the function `concatenate` and then `import mymodule` again. \n",
    "The changes have no effect."
   ]
  },
  {
   "cell_type": "code",
   "execution_count": 4,
   "metadata": {},
   "outputs": [
    {
     "data": {
      "text/plain": [
       "'HelloWorld'"
      ]
     },
     "execution_count": 4,
     "metadata": {},
     "output_type": "execute_result"
    }
   ],
   "source": [
    "import mymodule\n",
    "mymodule.concatenate(\"Hello\", \"World\")"
   ]
  },
  {
   "cell_type": "code",
   "execution_count": 5,
   "metadata": {},
   "outputs": [
    {
     "name": "stdout",
     "output_type": "stream",
     "text": [
      "Testing module...\n",
      "... tests passed!\n"
     ]
    }
   ],
   "source": [
    "%run mymodule.py"
   ]
  },
  {
   "cell_type": "code",
   "execution_count": 6,
   "metadata": {},
   "outputs": [
    {
     "data": {
      "text/plain": [
       "'HelloWorld'"
      ]
     },
     "execution_count": 6,
     "metadata": {},
     "output_type": "execute_result"
    }
   ],
   "source": [
    "concatenate(\"Hello\", \"World\")"
   ]
  },
  {
   "cell_type": "code",
   "execution_count": 9,
   "metadata": {},
   "outputs": [],
   "source": [
    "# import the package util\n",
    "import utils"
   ]
  },
  {
   "cell_type": "code",
   "execution_count": 10,
   "metadata": {},
   "outputs": [
    {
     "data": {
      "text/plain": [
       "<module 'utils.print' from '/home/ranger/Documents/Py_Proj/Prog_Class/utils/print.py'>"
      ]
     },
     "execution_count": 10,
     "metadata": {},
     "output_type": "execute_result"
    }
   ],
   "source": [
    "# print.py is imported in __init__\n",
    "utils.print"
   ]
  },
  {
   "cell_type": "code",
   "execution_count": 13,
   "metadata": {},
   "outputs": [
    {
     "data": {
      "text/plain": [
       "<module 'utils.print' from '/home/ranger/Documents/Py_Proj/Prog_Class/utils/print.py'>"
      ]
     },
     "execution_count": 13,
     "metadata": {},
     "output_type": "execute_result"
    }
   ],
   "source": [
    "# print.py is imported in __init__\n",
    "utils.print"
   ]
  },
  {
   "cell_type": "code",
   "execution_count": 18,
   "metadata": {},
   "outputs": [
    {
     "data": {
      "text/plain": [
       "<module 'utils.math' from '/home/ranger/Documents/Py_Proj/Prog_Class/utils/math.py'>"
      ]
     },
     "execution_count": 18,
     "metadata": {},
     "output_type": "execute_result"
    }
   ],
   "source": [
    "# math.py is NOT imported in __init__\n",
    "utils.math"
   ]
  },
  {
   "cell_type": "code",
   "execution_count": 9,
   "metadata": {},
   "outputs": [],
   "source": [
    "# both imports work\n",
    "import utils.print as p\n",
    "import utils.math as m"
   ]
  },
  {
   "cell_type": "code",
   "execution_count": 10,
   "metadata": {},
   "outputs": [
    {
     "name": "stdout",
     "output_type": "stream",
     "text": [
      "Hola!\n",
      "Ciao\n",
      "Bau\n",
      "Miao\n",
      "Bye!\n"
     ]
    }
   ],
   "source": [
    "p.uselessPrint(True)"
   ]
  },
  {
   "cell_type": "code",
   "execution_count": 11,
   "metadata": {},
   "outputs": [
    {
     "data": {
      "text/plain": [
       "42"
      ]
     },
     "execution_count": 11,
     "metadata": {},
     "output_type": "execute_result"
    }
   ],
   "source": [
    "m.answerToEverything()"
   ]
  },
  {
   "cell_type": "code",
   "execution_count": 4,
   "metadata": {},
   "outputs": [
    {
     "data": {
      "text/plain": [
       "3"
      ]
     },
     "execution_count": 4,
     "metadata": {},
     "output_type": "execute_result"
    }
   ],
   "source": [
    "a = 3\n",
    "\n",
    "def moda():\n",
    "    global a\n",
    "    a = 5\n",
    "    \n",
    "a"
   ]
  },
  {
   "cell_type": "code",
   "execution_count": 7,
   "metadata": {},
   "outputs": [
    {
     "ename": "IndexError",
     "evalue": "list index out of range",
     "output_type": "error",
     "traceback": [
      "\u001b[0;31m---------------------------------------------------------------------------\u001b[0m",
      "\u001b[0;31mIndexError\u001b[0m                                Traceback (most recent call last)",
      "\u001b[0;32m<ipython-input-7-a860437585f9>\u001b[0m in \u001b[0;36m<module>\u001b[0;34m()\u001b[0m\n\u001b[1;32m      1\u001b[0m \u001b[0ml\u001b[0m \u001b[0;34m=\u001b[0m \u001b[0;34m[\u001b[0m\u001b[0;36m1\u001b[0m\u001b[0;34m,\u001b[0m\u001b[0;36m2\u001b[0m\u001b[0;34m]\u001b[0m\u001b[0;34m\u001b[0m\u001b[0m\n\u001b[0;32m----> 2\u001b[0;31m \u001b[0ml\u001b[0m\u001b[0;34m[\u001b[0m\u001b[0;36m3\u001b[0m\u001b[0;34m]\u001b[0m\u001b[0;34m\u001b[0m\u001b[0m\n\u001b[0m",
      "\u001b[0;31mIndexError\u001b[0m: list index out of range"
     ]
    }
   ],
   "source": [
    "l = [1,2]\n",
    "l[3]"
   ]
  },
  {
   "cell_type": "code",
   "execution_count": 8,
   "metadata": {},
   "outputs": [
    {
     "ename": "IndexError",
     "evalue": "list assignment index out of range",
     "output_type": "error",
     "traceback": [
      "\u001b[0;31m---------------------------------------------------------------------------\u001b[0m",
      "\u001b[0;31mIndexError\u001b[0m                                Traceback (most recent call last)",
      "\u001b[0;32m<ipython-input-8-abc12d631945>\u001b[0m in \u001b[0;36m<module>\u001b[0;34m()\u001b[0m\n\u001b[1;32m      2\u001b[0m     \u001b[0ml\u001b[0m\u001b[0;34m[\u001b[0m\u001b[0;36m3\u001b[0m\u001b[0;34m]\u001b[0m \u001b[0;34m=\u001b[0m \u001b[0;36m5\u001b[0m\u001b[0;34m\u001b[0m\u001b[0m\n\u001b[1;32m      3\u001b[0m \u001b[0;34m\u001b[0m\u001b[0m\n\u001b[0;32m----> 4\u001b[0;31m \u001b[0mfun\u001b[0m\u001b[0;34m(\u001b[0m\u001b[0;34m[\u001b[0m\u001b[0;36m1\u001b[0m\u001b[0;34m,\u001b[0m\u001b[0;36m2\u001b[0m\u001b[0;34m]\u001b[0m\u001b[0;34m)\u001b[0m\u001b[0;34m\u001b[0m\u001b[0m\n\u001b[0m",
      "\u001b[0;32m<ipython-input-8-abc12d631945>\u001b[0m in \u001b[0;36mfun\u001b[0;34m(l)\u001b[0m\n\u001b[1;32m      1\u001b[0m \u001b[0;32mdef\u001b[0m \u001b[0mfun\u001b[0m\u001b[0;34m(\u001b[0m\u001b[0ml\u001b[0m\u001b[0;34m)\u001b[0m\u001b[0;34m:\u001b[0m\u001b[0;34m\u001b[0m\u001b[0m\n\u001b[0;32m----> 2\u001b[0;31m     \u001b[0ml\u001b[0m\u001b[0;34m[\u001b[0m\u001b[0;36m3\u001b[0m\u001b[0;34m]\u001b[0m \u001b[0;34m=\u001b[0m \u001b[0;36m5\u001b[0m\u001b[0;34m\u001b[0m\u001b[0m\n\u001b[0m\u001b[1;32m      3\u001b[0m \u001b[0;34m\u001b[0m\u001b[0m\n\u001b[1;32m      4\u001b[0m \u001b[0mfun\u001b[0m\u001b[0;34m(\u001b[0m\u001b[0;34m[\u001b[0m\u001b[0;36m1\u001b[0m\u001b[0;34m,\u001b[0m\u001b[0;36m2\u001b[0m\u001b[0;34m]\u001b[0m\u001b[0;34m)\u001b[0m\u001b[0;34m\u001b[0m\u001b[0m\n",
      "\u001b[0;31mIndexError\u001b[0m: list assignment index out of range"
     ]
    }
   ],
   "source": [
    "def fun(l):\n",
    "    l[3] = 5\n",
    "    \n",
    "fun([1,2])"
   ]
  },
  {
   "cell_type": "markdown",
   "metadata": {},
   "source": [
    "# Exercise_6a"
   ]
  },
  {
   "cell_type": "markdown",
   "metadata": {},
   "source": [
    "Write a function called minmax that takes one argument, a list, and returns both its minimum\n",
    "and maximum values. This means that you want to be able to do something like this:\n",
    "\n",
    "In [1]: l = [-3, 2, 6, 8, 1, 12, 0] \n",
    "In [2]: lower, upper = minmax(l)  \n",
    "In [3]: print('min:', lower, 'max:', upper)  \n",
    "min: -3 max: 12  \n",
    "\n",
    "Do the exercise by using a single for loop. You can do the exercise in 2 ways: 1) if the list is\n",
    "empty, raise an error; 2) if the list is empty, return (None, None).\n",
    "For a list with a single element, the result should be that element, repeated twice."
   ]
  },
  {
   "cell_type": "code",
   "execution_count": 11,
   "metadata": {},
   "outputs": [],
   "source": [
    "def minmax(ls):\n",
    "    if len(ls) == 0:\n",
    "        raise Exception('The list is empty!')\n",
    "    min_val = ls[0]\n",
    "    max_val = ls[0]\n",
    "    for val in ls:\n",
    "        if val > max_val:\n",
    "            max_val = val\n",
    "        if val < min_val:\n",
    "            min_val = val\n",
    "    return(min_val, max_val)"
   ]
  },
  {
   "cell_type": "code",
   "execution_count": 15,
   "metadata": {},
   "outputs": [
    {
     "data": {
      "text/plain": [
       "(1, 1)"
      ]
     },
     "execution_count": 15,
     "metadata": {},
     "output_type": "execute_result"
    }
   ],
   "source": [
    "minmax([1])"
   ]
  },
  {
   "cell_type": "markdown",
   "metadata": {},
   "source": [
    "# Lesson_06 Exercise"
   ]
  },
  {
   "cell_type": "markdown",
   "metadata": {},
   "source": [
    "## Exercise 1: isSorted\n",
    "1. Define a method isSorted that takes a list as input and returns True if the list is sorted, False\n",
    "otherwise.\n",
    "2. add a keyword argument rev with dafault value False that checks if the list is sorted in reverse\n",
    "order\n",
    "3. move isSorted to the file utils.py , import it and test it."
   ]
  },
  {
   "cell_type": "code",
   "execution_count": 14,
   "metadata": {},
   "outputs": [],
   "source": [
    "def isSorted(ls, rev = False):\n",
    "    length = len(ls)\n",
    "    if length == 0:\n",
    "        raise Exception('The list is empty!')\n",
    "    if not rev:\n",
    "        for i in range(len(ls) - 1):\n",
    "            if ls[i] > ls[i + 1]:\n",
    "                return False\n",
    "        return True\n",
    "    else:\n",
    "        for i in range(len(ls) - 1):\n",
    "            if ls[i] < ls[i + 1]:\n",
    "                return False\n",
    "        return True"
   ]
  },
  {
   "cell_type": "code",
   "execution_count": 16,
   "metadata": {},
   "outputs": [],
   "source": [
    "from utils import Check_Sort"
   ]
  },
  {
   "cell_type": "code",
   "execution_count": 5,
   "metadata": {},
   "outputs": [
    {
     "data": {
      "text/plain": [
       "'/home/ranger/Documents/Py_Proj/Prog_Class'"
      ]
     },
     "execution_count": 5,
     "metadata": {},
     "output_type": "execute_result"
    }
   ],
   "source": [
    "import os\n",
    "os.getcwd()"
   ]
  },
  {
   "cell_type": "code",
   "execution_count": 18,
   "metadata": {},
   "outputs": [
    {
     "name": "stdout",
     "output_type": "stream",
     "text": [
      "Testing module...\n"
     ]
    }
   ],
   "source": [
    "%run utils/Check_Sort.py"
   ]
  },
  {
   "cell_type": "code",
   "execution_count": 14,
   "metadata": {},
   "outputs": [
    {
     "data": {
      "text/plain": [
       "True"
      ]
     },
     "execution_count": 14,
     "metadata": {},
     "output_type": "execute_result"
    }
   ],
   "source": [
    "Check_Sort.isSorted([1, 2, 3])"
   ]
  },
  {
   "cell_type": "markdown",
   "metadata": {},
   "source": [
    "## Exercise 2: meanstd\n",
    "1. Define a method meanstd that takes a list as input and returns the mean and the standard\n",
    "deviation"
   ]
  },
  {
   "cell_type": "code",
   "execution_count": 30,
   "metadata": {},
   "outputs": [],
   "source": [
    "def meanstd(ls):\n",
    "    length = len(ls)\n",
    "    if length == 0:\n",
    "        raise Exception('The list is empty!')\n",
    "    if length == 1:\n",
    "        return (ls[0], 0)\n",
    "    total = 0\n",
    "    for val in ls:\n",
    "        total += val\n",
    "    mean = total / length\n",
    "    sub_sum = 0\n",
    "    for val in ls:\n",
    "        sub_sum += (val - mean) ** 2\n",
    "    import math\n",
    "    std = math.sqrt(sub_sum / (length - 1))\n",
    "    return (mean, std)\n",
    "\n",
    "def meanstd(l):\n",
    "    m = sum(l) / len(l)\n",
    "    s = sum( (x - m) ** 2 for x in l)\n",
    "    return m ,sqrt( s / ( len(l) - 1 ))"
   ]
  },
  {
   "cell_type": "code",
   "execution_count": 33,
   "metadata": {},
   "outputs": [
    {
     "data": {
      "text/plain": [
       "(3.75, 1.707825127659933)"
      ]
     },
     "execution_count": 33,
     "metadata": {},
     "output_type": "execute_result"
    }
   ],
   "source": [
    "meanstd([3, 2, 6, 4])"
   ]
  },
  {
   "cell_type": "markdown",
   "metadata": {},
   "source": [
    "## Exercise 3: Detect leap years\n",
    "\n",
    "Write a function called isleap that takes an integer number n and determines whether it represents\n",
    "a leap year or not.\n",
    "\n",
    "The rules are: a year is a leap year if it is divisible by 4, except if it is divisible by 100, unless it is also\n",
    "divisible by 400. For example:  \n",
    "1988, 1992, and 1996 are leap years (they are divisible by 4 and not by 100);  \n",
    "1700, 2100, 2200 are not leap years (they are divisible by 100 and not by 400);  \n",
    "1600, 2000, 2400 are leap years (they are divisible by 400)\n",
    "\n",
    "Your function should raise an exception if the argument is not an integer:"
   ]
  },
  {
   "cell_type": "code",
   "execution_count": 52,
   "metadata": {},
   "outputs": [],
   "source": [
    "def isleap(year):\n",
    "    if not isinstance(year, int):\n",
    "        raise Exception(\"n must be an integer\")\n",
    "    if year % 4 == 0:\n",
    "        if year % 100 == 0:\n",
    "            if year % 400 == 0:\n",
    "                return True\n",
    "            else: return False\n",
    "        else: return True\n",
    "    else: return False"
   ]
  },
  {
   "cell_type": "code",
   "execution_count": null,
   "metadata": {},
   "outputs": [],
   "source": [
    "def isleap(year):\n",
    "    return (n % 4 == 0) and ( (n % 100 != 0) or (n % 400 == 0) )"
   ]
  },
  {
   "cell_type": "code",
   "execution_count": 79,
   "metadata": {},
   "outputs": [
    {
     "data": {
      "text/plain": [
       "False"
      ]
     },
     "execution_count": 79,
     "metadata": {},
     "output_type": "execute_result"
    }
   ],
   "source": [
    "isleap(2100)"
   ]
  },
  {
   "cell_type": "markdown",
   "metadata": {},
   "source": [
    "## Exercise 4 Product of a list of integers, except 1\n",
    "\n",
    "Note: For this exercise, you will need to create a list of a given length n . In order to do that, use the\n",
    "comprhension syntax:  \n",
    "r = [1 for i in range(n)]\n",
    "\n",
    "That creates a list of n ones. Ok here's the exercise.\n",
    "\n",
    "You are given a list of non-zero integers, call it l , of length n . Your task is to write a function called\n",
    "xprod that takes the list l as an argument, and returns another list of length n , let's call it r . Each\n",
    "entry r[i] of r must be the product of all elements of l except l[i] .\n",
    "For example, if l = [2,3, 4, 5] , then you must have r[0] == 3 * 4 * 5 , r[1] == 2 * 4 * 5\n",
    "etc.\n",
    "\n",
    "In order to do this, use the following method: first, compute the product of all elements, then divide\n",
    "that by each l[i] in turn using integer division. (The resulting list must be of integers, not floats).\n",
    "If the input list l is empty, then return an empty list. If the input list has length 1, the result must be\n",
    "[1] .\n",
    "\n",
    "If the input list contains a zero, you should explicitly give an error. (Extra task: write the code to deal\n",
    "with this case.)\n",
    "\n",
    "It is not required for this exercise to check the type of the input."
   ]
  },
  {
   "cell_type": "code",
   "execution_count": 62,
   "metadata": {},
   "outputs": [],
   "source": [
    "def cal_val(x, prod, multi_zero):\n",
    "    if x == 0 and multi_zero:\n",
    "        return 0\n",
    "    else:\n",
    "        return prod / x"
   ]
  },
  {
   "cell_type": "code",
   "execution_count": 63,
   "metadata": {},
   "outputs": [
    {
     "data": {
      "text/plain": [
       "0"
      ]
     },
     "execution_count": 63,
     "metadata": {},
     "output_type": "execute_result"
    }
   ],
   "source": [
    "cal_val(0, 3, True)"
   ]
  },
  {
   "cell_type": "code",
   "execution_count": 1,
   "metadata": {},
   "outputs": [],
   "source": [
    "def xprod(ls):\n",
    "    length = len(ls)\n",
    "    if length == 0:\n",
    "        return []\n",
    "    if length == 1:\n",
    "        return [1]\n",
    "    zero_count = 0\n",
    "    zero_index = -1\n",
    "    prod = 1\n",
    "    for index, value in enumerate(ls):\n",
    "        if value == 0:\n",
    "            zero_count += 1\n",
    "            zero_index = index\n",
    "        else:\n",
    "            prod *= value\n",
    "    if zero_count > 1:\n",
    "        return [0] * length\n",
    "    if zero_count == 1:\n",
    "        return [0] * zero_index + [prod] + [0] * (length - zero_index - 1)\n",
    "    return [int(prod / val) for val in ls]"
   ]
  },
  {
   "cell_type": "code",
   "execution_count": 2,
   "metadata": {},
   "outputs": [
    {
     "data": {
      "text/plain": [
       "[-24, -8, 6, 12]"
      ]
     },
     "execution_count": 2,
     "metadata": {},
     "output_type": "execute_result"
    }
   ],
   "source": [
    "xprod([-1, -3, 4, 2])"
   ]
  },
  {
   "cell_type": "markdown",
   "metadata": {},
   "source": [
    "## Exercise 5: Binary Search\n",
    "    \n",
    "Implement the binary search subroutine to find the position of a value x in a sorted list A .\n",
    "\n",
    "Details of the algorithm: Given an array A of n elements with sorted values A[0] ≤ A[1] ≤ ... ≤ A[n−1] , and target value x ,\n",
    "the following subroutine uses binary search to find the index of x in A .\n",
    "\n",
    "1. Set L to 0 and R to n − 1.  \n",
    "2. If L > R , the search terminates as unsuccessful; return None.  \n",
    "3. Set m (the position of the middle element) to the floor of (L + R) / 2, which is the greatest integer  \n",
    "less than or equal to (L + R) / 2.  \n",
    "4. If A[m] < x , set L to m + 1 and go to step 2.\n",
    "5. If A[m] > x , set R to m − 1 and go to step 2.\n",
    "6. Now A[m] == x , the search is done; return m."
   ]
  },
  {
   "cell_type": "code",
   "execution_count": 12,
   "metadata": {},
   "outputs": [],
   "source": [
    "def binary_search(ls, x):\n",
    "    if not isSorted(ls):\n",
    "        raise Exception('The list is not sorted!')\n",
    "    length = len(ls)\n",
    "    L = 0\n",
    "    R = length - 1\n",
    "    while L <= R:\n",
    "        m = (L + R) // 2\n",
    "        if ls[m] == x:\n",
    "            return m\n",
    "        elif ls[m] > x:\n",
    "            R = m - 1\n",
    "        else:\n",
    "            L = m + 1\n",
    "    return None"
   ]
  },
  {
   "cell_type": "code",
   "execution_count": 15,
   "metadata": {},
   "outputs": [],
   "source": [
    "def binary_search(ls, x):\n",
    "    if not isSorted(ls):\n",
    "        raise Exception('The list is not sorted!')\n",
    "    length = len(ls)\n",
    "    L = 0\n",
    "    R = length - 1\n",
    "    while L <= R:\n",
    "        m = (L + R) // 2\n",
    "        if ls[m] == x:\n",
    "            return m\n",
    "        elif ls[m] > x:\n",
    "            R = m - 1\n",
    "        else:\n",
    "            L = m + 1\n",
    "    return L"
   ]
  },
  {
   "cell_type": "code",
   "execution_count": 17,
   "metadata": {},
   "outputs": [
    {
     "data": {
      "text/plain": [
       "3"
      ]
     },
     "execution_count": 17,
     "metadata": {},
     "output_type": "execute_result"
    }
   ],
   "source": [
    "binary_search([1, 7, 13, 18, 20], 14)"
   ]
  },
  {
   "cell_type": "code",
   "execution_count": 61,
   "metadata": {},
   "outputs": [
    {
     "ename": "ZeroDivisionError",
     "evalue": "division by zero",
     "output_type": "error",
     "traceback": [
      "\u001b[0;31m---------------------------------------------------------------------------\u001b[0m",
      "\u001b[0;31mZeroDivisionError\u001b[0m                         Traceback (most recent call last)",
      "\u001b[0;32m<ipython-input-61-e1965806ec03>\u001b[0m in \u001b[0;36m<module>\u001b[0;34m()\u001b[0m\n\u001b[0;32m----> 1\u001b[0;31m \u001b[0;36m3\u001b[0m \u001b[0;34m/\u001b[0m \u001b[0;36m0\u001b[0m\u001b[0;34m\u001b[0m\u001b[0m\n\u001b[0m",
      "\u001b[0;31mZeroDivisionError\u001b[0m: division by zero"
     ]
    }
   ],
   "source": [
    "3 / 0"
   ]
  },
  {
   "cell_type": "code",
   "execution_count": 2,
   "metadata": {},
   "outputs": [
    {
     "name": "stdout",
     "output_type": "stream",
     "text": [
      "['', '/usr/lib/python36.zip', '/usr/lib/python3.6', '/usr/lib/python3.6/lib-dynload', '/home/ranger/.local/lib/python3.6/site-packages', '/usr/local/lib/python3.6/dist-packages', '/usr/lib/python3/dist-packages', '/usr/local/lib/python3.6/dist-packages/IPython/extensions', '/home/ranger/.ipython']\n"
     ]
    }
   ],
   "source": [
    "import sys\n",
    "print(sys.path)"
   ]
  },
  {
   "cell_type": "code",
   "execution_count": 1,
   "metadata": {},
   "outputs": [],
   "source": [
    "import utils.test"
   ]
  },
  {
   "cell_type": "code",
   "execution_count": 2,
   "metadata": {},
   "outputs": [
    {
     "data": {
      "text/plain": [
       "['__builtins__',\n",
       " '__cached__',\n",
       " '__doc__',\n",
       " '__file__',\n",
       " '__loader__',\n",
       " '__name__',\n",
       " '__package__',\n",
       " '__path__',\n",
       " '__spec__',\n",
       " 'ss']"
      ]
     },
     "execution_count": 2,
     "metadata": {},
     "output_type": "execute_result"
    }
   ],
   "source": [
    "dir(utils.test)"
   ]
  },
  {
   "cell_type": "code",
   "execution_count": 9,
   "metadata": {},
   "outputs": [
    {
     "name": "stdout",
     "output_type": "stream",
     "text": [
      "/home/ranger/Documents/Py_Proj/Prog_Class\n"
     ]
    }
   ],
   "source": [
    "cd /home/ranger/Documents/Py_Proj/Prog_Class"
   ]
  },
  {
   "cell_type": "code",
   "execution_count": 10,
   "metadata": {},
   "outputs": [
    {
     "data": {
      "text/plain": [
       "'/home/ranger/Documents/Py_Proj/Prog_Class'"
      ]
     },
     "execution_count": 10,
     "metadata": {},
     "output_type": "execute_result"
    }
   ],
   "source": [
    "pwd"
   ]
  },
  {
   "cell_type": "markdown",
   "metadata": {},
   "source": [
    "**Functions define scope while conditions/loops don't  \n",
    "state global if change is needed**"
   ]
  },
  {
   "cell_type": "code",
   "execution_count": 11,
   "metadata": {},
   "outputs": [
    {
     "data": {
      "text/plain": [
       "[0, 0, 0]"
      ]
     },
     "execution_count": 11,
     "metadata": {},
     "output_type": "execute_result"
    }
   ],
   "source": [
    "[0] * 3"
   ]
  },
  {
   "cell_type": "code",
   "execution_count": null,
   "metadata": {},
   "outputs": [],
   "source": []
  }
 ],
 "metadata": {
  "kernelspec": {
   "display_name": "Python 3",
   "language": "python",
   "name": "python3"
  },
  "language_info": {
   "codemirror_mode": {
    "name": "ipython",
    "version": 3
   },
   "file_extension": ".py",
   "mimetype": "text/x-python",
   "name": "python",
   "nbconvert_exporter": "python",
   "pygments_lexer": "ipython3",
   "version": "3.6.5"
  }
 },
 "nbformat": 4,
 "nbformat_minor": 2
}
